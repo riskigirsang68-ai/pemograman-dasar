{
  "nbformat": 4,
  "nbformat_minor": 0,
  "metadata": {
    "colab": {
      "provenance": [],
      "authorship_tag": "ABX9TyMvLFThpiAFVz+nPrYu2NZz",
      "include_colab_link": true
    },
    "kernelspec": {
      "name": "python3",
      "display_name": "Python 3"
    },
    "language_info": {
      "name": "python"
    }
  },
  "cells": [
    {
      "cell_type": "markdown",
      "metadata": {
        "id": "view-in-github",
        "colab_type": "text"
      },
      "source": [
        "<a href=\"https://colab.research.google.com/github/riskigirsang68-ai/pemograman-dasar/blob/main/Latihan%20pertemuan%204.ipynb\" target=\"_parent\"><img src=\"https://colab.research.google.com/assets/colab-badge.svg\" alt=\"Open In Colab\"/></a>"
      ]
    },
    {
      "cell_type": "code",
      "execution_count": null,
      "metadata": {
        "colab": {
          "base_uri": "https://localhost:8080/"
        },
        "id": "nKJvl7M0cku-",
        "outputId": "855ec0d0-19d8-456d-aa67-f1363b1bc148"
      },
      "outputs": [
        {
          "output_type": "stream",
          "name": "stdout",
          "text": [
            "Masukkan sebuah angka: 10\n",
            "Kelipatan 5\n"
          ]
        }
      ],
      "source": [
        "angka = int(input(\"Masukkan sebuah angka: \"))\n",
        "\n",
        "if angka % 5 == 0:\n",
        "    print(\"Kelipatan 5\")\n",
        "else:\n",
        "    print(\"Bukan kelipatan 5\")"
      ]
    },
    {
      "cell_type": "code",
      "source": [
        "tahun = int(input(\"Masukkan tahun: \"))\n",
        "\n",
        "if tahun % 400 == 0:\n",
        "    print(\"Tahun Kabisat\")\n",
        "elif tahun % 4 == 0 and tahun % 100 != 0:\n",
        "    print(\"Tahun Kabisat\")\n",
        "else:\n",
        "    print(\"Bukan Tahun Kabisat\")"
      ],
      "metadata": {
        "colab": {
          "base_uri": "https://localhost:8080/"
        },
        "id": "6Dm1LDPDc7TQ",
        "outputId": "25af2567-8ca6-4e97-b3b9-f89c971e7354"
      },
      "execution_count": null,
      "outputs": [
        {
          "output_type": "stream",
          "name": "stdout",
          "text": [
            "Masukkan tahun: 2028\n",
            "Tahun Kabisat\n"
          ]
        }
      ]
    },
    {
      "cell_type": "code",
      "source": [
        "print(\"Program Matematika Sederhana\")\n",
        "angka1 = float(input(\"Masukkan angka pertama: \"))\n",
        "angka2 = float(input(\"Masukkan angka kedua: \"))\n",
        "operasi = input(\"Pilih operasi (+, -, *, /): \")\n",
        "\n",
        "if operasi == '+':\n",
        "    hasil = angka1 + angka2\n",
        "elif operasi == '-':\n",
        "    hasil = angka1 - angka2\n",
        "elif operasi == '*':\n",
        "    hasil = angka1 * angka2\n",
        "elif operasi == '/':\n",
        "    if angka2 != 0:\n",
        "        hasil = angka1 / angka2\n",
        "    else:\n",
        "        hasil = \"Tidak bisa dibagi 0\"\n",
        "else:\n",
        "    hasil = \"Operasi salah\"\n",
        "\n",
        "print(\"Hasil:\", hasil)"
      ],
      "metadata": {
        "colab": {
          "base_uri": "https://localhost:8080/"
        },
        "id": "XJCEZQ4fdAmC",
        "outputId": "b2256545-5dfe-451e-ddc0-0fe582b8f2e3"
      },
      "execution_count": null,
      "outputs": [
        {
          "output_type": "stream",
          "name": "stdout",
          "text": [
            "Program Matematika Sederhana\n",
            "Masukkan angka pertama: 12\n",
            "Masukkan angka kedua: 28\n",
            "Pilih operasi (+, -, *, /): *\n",
            "Hasil: 336.0\n"
          ]
        }
      ]
    },
    {
      "cell_type": "code",
      "source": [
        "bulan = int(input(\"Masukkan angka bulan (1-12): \"))\n",
        "\n",
        "nama_bulan = [\"Januari\", \"Februari\", \"Maret\", \"April\", \"Mei\", \"Juni\",\n",
        "              \"Juli\", \"Agustus\", \"September\", \"Oktober\", \"November\", \"Desember\"]\n",
        "\n",
        "if 1 <= bulan <= 12:\n",
        "    print(\"Bulan:\", nama_bulan[bulan - 1])\n",
        "else:\n",
        "    print(\"Input salah\")"
      ],
      "metadata": {
        "colab": {
          "base_uri": "https://localhost:8080/"
        },
        "id": "HRyZfs_ydLs_",
        "outputId": "64ea0eb3-5cd0-4881-f05f-3ee0dc676942"
      },
      "execution_count": null,
      "outputs": [
        {
          "output_type": "stream",
          "name": "stdout",
          "text": [
            "Masukkan angka bulan (1-12): 7\n",
            "Bulan: Juli\n"
          ]
        }
      ]
    },
    {
      "cell_type": "code",
      "source": [
        "jam = int(input(\"Masukkan jam (0-23): \"))\n",
        "\n",
        "if 0 <= jam <= 11:\n",
        "    print(\"Selamat Pagi\")\n",
        "elif jam == 12:\n",
        "    print(\"Selamat Siang\")\n",
        "elif 13 <= jam <= 15:\n",
        "    print(\"Selamat Siang\")\n",
        "elif 16 <= jam <= 18:\n",
        "    print(\"Selamat Sore\")\n",
        "elif 19 <= jam <= 23:\n",
        "    print(\"Selamat Malam\")\n",
        "else:\n",
        "    print(\"Input jam salah\")"
      ],
      "metadata": {
        "colab": {
          "base_uri": "https://localhost:8080/"
        },
        "id": "X1enTU_YdTMQ",
        "outputId": "f74e64e7-aa63-4d88-b735-9a6f9924ad4f"
      },
      "execution_count": null,
      "outputs": [
        {
          "output_type": "stream",
          "name": "stdout",
          "text": [
            "Masukkan jam (0-23): 20\n",
            "Selamat Malam\n"
          ]
        }
      ]
    }
  ]
}