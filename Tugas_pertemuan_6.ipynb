{
  "nbformat": 4,
  "nbformat_minor": 0,
  "metadata": {
    "colab": {
      "provenance": [],
      "authorship_tag": "ABX9TyMGnTXcUB/BypqeSM44U1mE",
      "include_colab_link": true
    },
    "kernelspec": {
      "name": "python3",
      "display_name": "Python 3"
    },
    "language_info": {
      "name": "python"
    }
  },
  "cells": [
    {
      "cell_type": "markdown",
      "metadata": {
        "id": "view-in-github",
        "colab_type": "text"
      },
      "source": [
        "<a href=\"https://colab.research.google.com/github/riskigirsang68-ai/pemograman-dasar/blob/main/Tugas_pertemuan_6.ipynb\" target=\"_parent\"><img src=\"https://colab.research.google.com/assets/colab-badge.svg\" alt=\"Open In Colab\"/></a>"
      ]
    },
    {
      "cell_type": "code",
      "source": [
        "def sapa():\n",
        "    print(\"Halo! Selamat datang di Python.\")\n",
        "\n",
        "# Pemanggilan fungsi\n",
        "sapa()"
      ],
      "metadata": {
        "colab": {
          "base_uri": "https://localhost:8080/"
        },
        "id": "lKIaPBOgf0z8",
        "outputId": "cf94d83f-2e55-4969-8143-c6b9c72ca897"
      },
      "execution_count": null,
      "outputs": [
        {
          "output_type": "stream",
          "name": "stdout",
          "text": [
            "Halo! Selamat datang di Python.\n"
          ]
        }
      ]
    },
    {
      "cell_type": "code",
      "source": [
        "def analisis_suhu():\n",
        "    # Dictionary berisi data suhu harian (non-primitif)\n",
        "    suhu_harian = {\n",
        "        \"Senin\": 30,\n",
        "        \"Selasa\": 32,\n",
        "        \"Rabu\": 28,\n",
        "        \"Kamis\": 31,\n",
        "        \"Jumat\": 33,\n",
        "        \"Sabtu\": 29,\n",
        "        \"Minggu\": 27\n",
        "    }\n",
        "\n",
        "    total = 0               # int (primitif)\n",
        "    suhu_tertinggi = -999   # inisialisasi suhu tinggi\n",
        "    suhu_terendah = 999     # inisialisasi suhu rendah\n",
        "    hari_tertinggi = \"\"\n",
        "    hari_terendah = \"\"\n",
        "\n",
        "    # Perulangan for untuk menghitung total dan mencari suhu ekstrem\n",
        "    for hari, suhu in suhu_harian.items():\n",
        "        total += suhu\n",
        "\n",
        "        if suhu > suhu_tertinggi:\n",
        "            suhu_tertinggi = suhu\n",
        "            hari_tertinggi = hari\n",
        "\n",
        "        if suhu < suhu_terendah:\n",
        "            suhu_terendah = suhu\n",
        "            hari_terendah = hari\n",
        "\n",
        "    # Hitung rata-rata suhu\n",
        "    rata_rata = total / len(suhu_harian)\n",
        "\n",
        "    # Menampilkan hasil\n",
        "    print(\"=== HASIL ANALISIS SUHU HARIAN ===\")\n",
        "    print(\"Data suhu:\", suhu_harian)\n",
        "    print(f\"Rata-rata suhu: {rata_rata}°C\")\n",
        "    print(f\"Suhu tertinggi: {suhu_tertinggi}°C pada hari {hari_tertinggi}\")\n",
        "    print(f\"Suhu terendah: {suhu_terendah}°C pada hari {hari_terendah}\")\n",
        "\n",
        "    # Tampilkan data suhu satu per satu menggunakan while loop\n",
        "    print(\"\\n=== DAFTAR SUHU PER HARI ===\")\n",
        "    hari_list = list(suhu_harian.keys())\n",
        "    i = 0\n",
        "    while i < len(hari_list):\n",
        "        print(f\"{hari_list[i]}: {suhu_harian[hari_list[i]]}°C\")\n",
        "        i += 1\n",
        "\n",
        "\n",
        "# Pemanggilan fungsi\n",
        "analisis_suhu()"
      ],
      "metadata": {
        "colab": {
          "base_uri": "https://localhost:8080/"
        },
        "id": "WCa53VY7f1dc",
        "outputId": "f97a3a22-7888-4119-816f-0b8c5455f48d"
      },
      "execution_count": null,
      "outputs": [
        {
          "output_type": "stream",
          "name": "stdout",
          "text": [
            "=== HASIL ANALISIS SUHU HARIAN ===\n",
            "Data suhu: {'Senin': 30, 'Selasa': 32, 'Rabu': 28, 'Kamis': 31, 'Jumat': 33, 'Sabtu': 29, 'Minggu': 27}\n",
            "Rata-rata suhu: 30.0°C\n",
            "Suhu tertinggi: 33°C pada hari Jumat\n",
            "Suhu terendah: 27°C pada hari Minggu\n",
            "\n",
            "=== DAFTAR SUHU PER HARI ===\n",
            "Senin: 30°C\n",
            "Selasa: 32°C\n",
            "Rabu: 28°C\n",
            "Kamis: 31°C\n",
            "Jumat: 33°C\n",
            "Sabtu: 29°C\n",
            "Minggu: 27°C\n"
          ]
        }
      ]
    }
  ]
}