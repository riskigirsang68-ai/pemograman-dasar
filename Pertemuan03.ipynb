{
  "nbformat": 4,
  "nbformat_minor": 0,
  "metadata": {
    "colab": {
      "provenance": [],
      "authorship_tag": "ABX9TyPJrANF1XRICh5E9an5m7sL",
      "include_colab_link": true
    },
    "kernelspec": {
      "name": "python3",
      "display_name": "Python 3"
    },
    "language_info": {
      "name": "python"
    }
  },
  "cells": [
    {
      "cell_type": "markdown",
      "metadata": {
        "id": "view-in-github",
        "colab_type": "text"
      },
      "source": [
        "<a href=\"https://colab.research.google.com/github/riskigirsang68-ai/pemograman-dasar/blob/main/Pertemuan03.ipynb\" target=\"_parent\"><img src=\"https://colab.research.google.com/assets/colab-badge.svg\" alt=\"Open In Colab\"/></a>"
      ]
    },
    {
      "cell_type": "code",
      "execution_count": null,
      "metadata": {
        "colab": {
          "base_uri": "https://localhost:8080/"
        },
        "id": "DYHCXKXLZ3Ar",
        "outputId": "c0246a36-7e1a-487b-e9a7-4e263901abdc"
      },
      "outputs": [
        {
          "name": "stdout",
          "output_type": "stream",
          "text": [
            "berapa kali kamu makan dalam sehari? :3 kali sehari\n",
            "siapa nama pelanggan? frans \n"
          ]
        }
      ],
      "source": [
        "total = input(\"berapa kali kamu makan dalam sehari? :\")\n",
        "nama = input (\"siapa nama pelanggan? \")"
      ]
    },
    {
      "cell_type": "code",
      "source": [
        "total = int (input(\"berapa kali kamu makan dalam sehari? :\"))\n",
        "nama = str (input(\"siapa nama pelanggan?:\"))"
      ],
      "metadata": {
        "colab": {
          "base_uri": "https://localhost:8080/"
        },
        "id": "Q8TuokvbZ_EB",
        "outputId": "b2296cd2-33a5-4885-848a-5ef7b7614e33"
      },
      "execution_count": null,
      "outputs": [
        {
          "name": "stdout",
          "output_type": "stream",
          "text": [
            "berapa kali kamu makan dalam sehari? :3\n",
            "siapa nama pelanggan?:frans \n"
          ]
        }
      ]
    },
    {
      "cell_type": "code",
      "source": [
        "food = \"mie goreng\"\n",
        "print(\"frans sedang memesan\",food)"
      ],
      "metadata": {
        "colab": {
          "base_uri": "https://localhost:8080/"
        },
        "id": "r3wMxqcKdeq6",
        "outputId": "e9c31200-b167-4b98-aa01-11794ee8eb9b"
      },
      "execution_count": null,
      "outputs": [
        {
          "output_type": "stream",
          "name": "stdout",
          "text": [
            "frans sedang memesan mie goreng\n"
          ]
        }
      ]
    },
    {
      "cell_type": "code",
      "source": [
        "food = \"mie goreng \"\n",
        "print(\"frans sedang memesan\", food)\n",
        "print (\"frans sedang memesan\"+ food)\n",
        "print (\"frans sedang memesan %s\"% (food))"
      ],
      "metadata": {
        "colab": {
          "base_uri": "https://localhost:8080/"
        },
        "id": "mUOGADCVeUQo",
        "outputId": "c2895c11-b07a-4d04-aefe-9f3c36ab86ec"
      },
      "execution_count": null,
      "outputs": [
        {
          "output_type": "stream",
          "name": "stdout",
          "text": [
            "frans sedang memesan mie goreng \n",
            "frans sedang memesanmie goreng \n",
            "frans sedang memesan mie goreng \n"
          ]
        }
      ]
    },
    {
      "cell_type": "code",
      "source": [
        "a = 30\n",
        "b = 6\n",
        "print(\"penjumlahan:\",a+b )\n",
        "print(\"pengurangan:\",a-b)\n",
        "print(\"perkalian:\",a*b)\n",
        "print(\"pembagian:\",a/b)"
      ],
      "metadata": {
        "colab": {
          "base_uri": "https://localhost:8080/"
        },
        "id": "4_DNCtDVfsAw",
        "outputId": "634590b1-b1aa-4efb-aed8-af1b358b9309"
      },
      "execution_count": null,
      "outputs": [
        {
          "output_type": "stream",
          "name": "stdout",
          "text": [
            "penjumlahan: 36\n",
            "pengurangan: 24\n",
            "perkalian: 180\n",
            "pembagian: 5.0\n"
          ]
        }
      ]
    },
    {
      "cell_type": "code",
      "source": [
        "bilangan = 20\n",
        "hasil =(bilangan > 0) and (bilangan % 2 ==0)\n",
        "print (\"genap dan positif?\",hasil)"
      ],
      "metadata": {
        "colab": {
          "base_uri": "https://localhost:8080/"
        },
        "id": "v6BubvWAgm6F",
        "outputId": "0b5237f9-d87d-430d-b1de-142bda2c2c7a"
      },
      "execution_count": null,
      "outputs": [
        {
          "output_type": "stream",
          "name": "stdout",
          "text": [
            "genap dan positif? True\n"
          ]
        }
      ]
    },
    {
      "cell_type": "code",
      "source": [
        "#konversi waktu\n",
        "total_detik= 3600\n",
        "jam = total_detik//3600\n",
        "sisa_detik = total_detik%3600\n",
        "menit = sisa_detik//6\n",
        "detik = sisa_detik%60\n",
        "print(f\"hasil konversi:{jam}jam, {menit}menit,{detik}detik\")"
      ],
      "metadata": {
        "colab": {
          "base_uri": "https://localhost:8080/"
        },
        "id": "oWRRMGXjjiHs",
        "outputId": "12498c45-3e8f-4704-b681-eeac53cf2bbb"
      },
      "execution_count": null,
      "outputs": [
        {
          "output_type": "stream",
          "name": "stdout",
          "text": [
            "hasil konversi:1jam, 0menit,0detik\n"
          ]
        }
      ]
    },
    {
      "cell_type": "code",
      "source": [
        "harga_makan= int (input(\"berapa harga mie goreng per porsi?\"))\n",
        "jumlah_makan= int (input(\"berapa porsi yang anda beli?\"))\n",
        "total_makan=harga_makan*jumlah_makan\n",
        "\n",
        "print(f\"harga makan per porsi ={harga_makan};totalnya adalah {total_makan}\")"
      ],
      "metadata": {
        "colab": {
          "base_uri": "https://localhost:8080/"
        },
        "id": "ipzu5A-tha3y",
        "outputId": "8c0a9c02-ff62-4e17-fdcf-56af7657ff11"
      },
      "execution_count": null,
      "outputs": [
        {
          "output_type": "stream",
          "name": "stdout",
          "text": [
            "berapa harga mie goreng per porsi?26000\n",
            "berapa porsi yang anda beli?3\n",
            "harga makan per porsi =26000;totalnya adalah 78000\n"
          ]
        }
      ]
    },
    {
      "cell_type": "code",
      "source": [
        "tugas = 90\n",
        "uts = 80\n",
        "uas =86\n",
        "nilai_akhir =(0.3*tugas )+(0.3*uts)+(0.3*uas)\n",
        "print(\"nilai akhir=\",nilai_akhir)"
      ],
      "metadata": {
        "colab": {
          "base_uri": "https://localhost:8080/"
        },
        "id": "FQ01zbgsk2aU",
        "outputId": "db6fb4da-0d07-4365-a04f-ece4ecbeb63e"
      },
      "execution_count": null,
      "outputs": [
        {
          "output_type": "stream",
          "name": "stdout",
          "text": [
            "nilai akhir= 76.8\n"
          ]
        }
      ]
    },
    {
      "cell_type": "code",
      "source": [
        "nilai_mahasiswa = 90\n",
        "standar_kelulusan = 80\n",
        "apakah_lulus = nilai_mahasiswa >= standar_kelulusan\n",
        "perlu_remedial = nilai_mahasiswa < standar_kelulusan\n",
        "print (f\"nilai mahasiswa :{nilai_mahasiswa}\")\n",
        "print (f\"standar kelulusan:{standar_kelulusan}\")\n",
        "print (f\"apakah mahasiswa lulus?{apakah_lulus}\")\n",
        "print (f\"perlu remedial? {perlu_remedial}\")"
      ],
      "metadata": {
        "colab": {
          "base_uri": "https://localhost:8080/"
        },
        "id": "KxDo8Ykcl3MO",
        "outputId": "a7d20d6c-5a97-4876-e35f-1f1818608612"
      },
      "execution_count": null,
      "outputs": [
        {
          "output_type": "stream",
          "name": "stdout",
          "text": [
            "nilai mahasiswa :90\n",
            "standar kelulusan:80\n",
            "apakah mahasiswa lulus?True\n",
            "perlu remedial? False\n"
          ]
        }
      ]
    },
    {
      "cell_type": "code",
      "source": [
        "belanja = 2500000\n",
        "diskon = (0,0.5*belanja)[belanja>500000]\n",
        "total_harga = belanja - diskon\n",
        "print (\"total harga setelah diskon =\", total_harga)"
      ],
      "metadata": {
        "colab": {
          "base_uri": "https://localhost:8080/"
        },
        "id": "hpopy189pFnt",
        "outputId": "cebf14f6-92df-47d5-f8e9-2389599f99c2"
      },
      "execution_count": null,
      "outputs": [
        {
          "output_type": "stream",
          "name": "stdout",
          "text": [
            "total harga setelah diskon = 1250000.0\n"
          ]
        }
      ]
    }
  ]
}