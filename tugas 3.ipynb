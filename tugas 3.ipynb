{
  "nbformat": 4,
  "nbformat_minor": 0,
  "metadata": {
    "colab": {
      "provenance": [],
      "authorship_tag": "ABX9TyP78Z6L4rvnz+g92duQgL37",
      "include_colab_link": true
    },
    "kernelspec": {
      "name": "python3",
      "display_name": "Python 3"
    },
    "language_info": {
      "name": "python"
    }
  },
  "cells": [
    {
      "cell_type": "markdown",
      "metadata": {
        "id": "view-in-github",
        "colab_type": "text"
      },
      "source": [
        "<a href=\"https://colab.research.google.com/github/riskigirsang68-ai/pemograman-dasar/blob/main/tugas%203.ipynb\" target=\"_parent\"><img src=\"https://colab.research.google.com/assets/colab-badge.svg\" alt=\"Open In Colab\"/></a>"
      ]
    },
    {
      "cell_type": "code",
      "execution_count": 1,
      "metadata": {
        "colab": {
          "base_uri": "https://localhost:8080/"
        },
        "id": "3VZoi3cIxu0_",
        "outputId": "4af356cd-6e9c-45f7-c9f9-88e4b8aa3b94"
      },
      "outputs": [
        {
          "output_type": "stream",
          "name": "stdout",
          "text": [
            "Subtotal: Rp 115000\n",
            "Diskon: Rp 17250.0\n",
            "Harga setelah diskon: Rp 97750.0\n",
            "PPN (11%): Rp 10752.5\n",
            "Total Akhir yang harus dibayar: Rp 108502.5\n"
          ]
        }
      ],
      "source": [
        "# Program Kasir Sederhana\n",
        "\n",
        "# Input data\n",
        "items = [25000, 30000, 60000]   # daftar harga barang yang dibeli\n",
        "is_member = True                # status keanggotaan pelanggan (True = member, False = bukan)\n",
        "\n",
        "# 1. Hitung Subtotal\n",
        "subtotal = sum(items)\n",
        "print(\"Subtotal: Rp\", subtotal)\n",
        "\n",
        "# 2. Evaluasi syarat diskon\n",
        "if is_member and subtotal > 100000:\n",
        "    diskon = 0.15 * subtotal\n",
        "else:\n",
        "    diskon = 0\n",
        "\n",
        "# 3. Hitung jumlah diskon\n",
        "print(\"Diskon: Rp\", diskon)\n",
        "\n",
        "# 4. Hitung harga setelah diskon\n",
        "harga_setelah_diskon = subtotal - diskon\n",
        "print(\"Harga setelah diskon: Rp\", harga_setelah_diskon)\n",
        "\n",
        "# 5. Hitung PPN 11%\n",
        "ppn = 0.11 * harga_setelah_diskon\n",
        "print(\"PPN (11%): Rp\", ppn)\n",
        "\n",
        "# 6. Hitung total akhir\n",
        "total_akhir = harga_setelah_diskon + ppn\n",
        "print(\"Total Akhir yang harus dibayar: Rp\", total_akhir)\n"
      ]
    }
  ]
}