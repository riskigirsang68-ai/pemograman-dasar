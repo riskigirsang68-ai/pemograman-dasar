{
  "nbformat": 4,
  "nbformat_minor": 0,
  "metadata": {
    "colab": {
      "provenance": [],
      "authorship_tag": "ABX9TyNkAyaS3nn/g2dMDJ4hqOMP",
      "include_colab_link": true
    },
    "kernelspec": {
      "name": "python3",
      "display_name": "Python 3"
    },
    "language_info": {
      "name": "python"
    }
  },
  "cells": [
    {
      "cell_type": "markdown",
      "metadata": {
        "id": "view-in-github",
        "colab_type": "text"
      },
      "source": [
        "<a href=\"https://colab.research.google.com/github/riskigirsang68-ai/pemograman-dasar/blob/main/pertemuan%204.ipynb\" target=\"_parent\"><img src=\"https://colab.research.google.com/assets/colab-badge.svg\" alt=\"Open In Colab\"/></a>"
      ]
    },
    {
      "cell_type": "code",
      "execution_count": 3,
      "metadata": {
        "colab": {
          "base_uri": "https://localhost:8080/"
        },
        "id": "J_Xh6rtPTlW5",
        "outputId": "ed97202a-f960-44fc-8bcb-fda3cfc5dded"
      },
      "outputs": [
        {
          "output_type": "stream",
          "name": "stdout",
          "text": [
            "pengunjung adalah orang dewasa\n"
          ]
        }
      ],
      "source": [
        "umur:int=19\n",
        "if umur> 17:\n",
        "  print (\"pengunjung adalah orang dewasa\")"
      ]
    },
    {
      "cell_type": "code",
      "source": [
        "username = input (\"masukkann username\")\n",
        "password = input (\"masukkan password\")\n",
        "if username ==\"frans \" and password == \"2323\":\n",
        "  print(\"login berhasil\")\n",
        "else:\n",
        "  print(\"login gagal\")"
      ],
      "metadata": {
        "colab": {
          "base_uri": "https://localhost:8080/"
        },
        "id": "uGhN0F-1YAuk",
        "outputId": "7455c686-7acd-487b-ebfc-1f02b3d3fe0f"
      },
      "execution_count": 23,
      "outputs": [
        {
          "output_type": "stream",
          "name": "stdout",
          "text": [
            "masukkann usernamefrans \n",
            "masukkan password2323\n",
            "login berhasil\n"
          ]
        }
      ]
    },
    {
      "cell_type": "code",
      "source": [
        "total_belanja= input (\"total belanja :rp \")\n",
        "bayar =int (total_belanja)\n",
        "if int (total_belanja) > 100000:\n",
        "  print(\"selamat karena belanja > rp. 100.000 anda mendapatkan voucher makan \")\n",
        "  print(\"dan diskon 5%\")\n",
        "  diskon = int(total_belanja )* 5/100\n",
        "  bayar = int(total_belanja )- diskon\n",
        "  print(\"total yang harus dibayar:rp %s\" % bayar )\n",
        "  print(\"terima kasih telah berbelanja ditoko kami\")\n",
        "  print(\"kami tunggu kunjungan anda selanjutnya \")"
      ],
      "metadata": {
        "colab": {
          "base_uri": "https://localhost:8080/"
        },
        "id": "G8sCsHKjc6WB",
        "outputId": "a4aec36e-1809-4b2e-cf00-261cd8622331"
      },
      "execution_count": 36,
      "outputs": [
        {
          "output_type": "stream",
          "name": "stdout",
          "text": [
            "total belanja :rp 450000\n",
            "selamat karena belanja > rp. 100.000 anda mendapatkan voucher makan \n",
            "dan diskon 5%\n",
            "total yang harus dibayar:rp 427500.0\n",
            "terima kasih telah berbelanja ditoko kami\n",
            "kami tunggu kunjungan anda selanjutnya \n"
          ]
        }
      ]
    },
    {
      "cell_type": "code",
      "source": [
        "ada_notifikasi_baru:bool = True\n",
        "if ada_notifikasi_baru:\n",
        "  print(\"anda memiliki notifikasi baru! \")"
      ],
      "metadata": {
        "colab": {
          "base_uri": "https://localhost:8080/"
        },
        "id": "p4Pe5Jmjfz6g",
        "outputId": "28fdc57a-8a1f-413a-eaff-1bfa2630ecef"
      },
      "execution_count": 38,
      "outputs": [
        {
          "output_type": "stream",
          "name": "stdout",
          "text": [
            "anda memiliki notifikasi baru! \n"
          ]
        }
      ]
    },
    {
      "cell_type": "code",
      "source": [
        "umur = input(\"berapa umur kamu: \")\n",
        "if int(umur) >= 18:\n",
        "  print(\"kamu boleh membuat SIM \")\n",
        "else:\n",
        "    print(\"kamu belum boleh membuat SIM \")"
      ],
      "metadata": {
        "colab": {
          "base_uri": "https://localhost:8080/"
        },
        "outputId": "60407b27-c134-4e07-e209-57b285d8bc45",
        "id": "6G1r_oQQh5_g"
      },
      "execution_count": 47,
      "outputs": [
        {
          "output_type": "stream",
          "name": "stdout",
          "text": [
            "berapa umur kamu: 19\n",
            "kamu boleh membuat SIM \n"
          ]
        }
      ]
    },
    {
      "cell_type": "code",
      "source": [
        "total_belanja = 40000\n",
        "if total_belanja > 20000:\n",
        "    diskon = total_belanja * 0.10\n",
        "    total_bayar = total_belanja - diskon\n",
        "    print(f\"anda mendapat diskon! total bayar : RP {total_bayar }\")\n",
        "else:\n",
        "    print(f\" total bayar:RP {total_belanja}\")"
      ],
      "metadata": {
        "colab": {
          "base_uri": "https://localhost:8080/"
        },
        "outputId": "ecf7d592-305a-4f49-fc8d-78197fe82c1a",
        "id": "qEzNeqnjj2ww"
      },
      "execution_count": 59,
      "outputs": [
        {
          "output_type": "stream",
          "name": "stdout",
          "text": [
            "anda mendapat diskon! total bayar : RP 36000.0\n"
          ]
        }
      ]
    },
    {
      "cell_type": "code",
      "source": [
        "angka =int(input(\"masukkan bilangan\"))\n",
        "if angka % 2 == 0:\n",
        "  print(\"bilangan genap\")\n",
        "else:\n",
        "   print(\"bilangan ganjil\")"
      ],
      "metadata": {
        "colab": {
          "base_uri": "https://localhost:8080/"
        },
        "id": "39GiXi7ij7MP",
        "outputId": "5c2f5da1-0d33-43c5-c555-6021fac437e8"
      },
      "execution_count": 60,
      "outputs": [
        {
          "output_type": "stream",
          "name": "stdout",
          "text": [
            "masukkan bilangan8\n",
            "bilangan genap\n"
          ]
        }
      ]
    },
    {
      "cell_type": "code",
      "source": [
        "nilai = 90\n",
        "if nilai >= 80:\n",
        "  print(\"luar biasa! nilai A\")\n",
        "elif nilai >=75:\n",
        "  print(\"bagus nilai B\")\n",
        "elif nilai >=65:\n",
        "  ptint(\"cukup.nilai C\")\n",
        "else:\n",
        "  print(\"nilai kurang, perlu belajar lebih giat \")"
      ],
      "metadata": {
        "colab": {
          "base_uri": "https://localhost:8080/"
        },
        "id": "WddBR5X8kiEP",
        "outputId": "a6b02830-4a6d-4727-b7fe-0ee9431df78d"
      },
      "execution_count": 62,
      "outputs": [
        {
          "output_type": "stream",
          "name": "stdout",
          "text": [
            "luar biasa! nilai A\n"
          ]
        }
      ]
    },
    {
      "cell_type": "code",
      "source": [
        "hari: str = \"sabtu\"\n",
        "if hari== \"sabtu\" or hari == \"minggu\":\n",
        "  diskon: float = 0.20\n",
        "  print(f\"selamat! anda mendapat diskon akhir pekan sebesar {diskon*100}%.\")\n",
        "elif hari == \"jumat\":\n",
        "  diskon: float = 0.10\n",
        "  print(f\"diskon spesial jumat anda mendapat potongan {diskon*100}%.\")\n",
        "else:\n",
        "  diskon: float =0.05\n",
        "  prinbt(f\"anda mendapat diskon hari biasa sebesar {diskon*100}%.\")"
      ],
      "metadata": {
        "colab": {
          "base_uri": "https://localhost:8080/"
        },
        "id": "SNgx9K4kl0eg",
        "outputId": "0c46322c-6a1b-42f2-dcab-8ce26a802907"
      },
      "execution_count": 66,
      "outputs": [
        {
          "output_type": "stream",
          "name": "stdout",
          "text": [
            "selamat! anda mendapat diskon akhir pekan sebesar 20.0%.\n"
          ]
        }
      ]
    },
    {
      "cell_type": "code",
      "source": [
        "rupiah = int(input(\"masukkan jumlah uang (RP):\"))\n",
        "print(\"1 dollar (USD)\")\n",
        "print(\"2 euro (EUR)\")\n",
        "print(\"3yen(JPY)\")\n",
        "pilih = int(input(\"pilih konversi 1/2/3):\"))\n",
        "if pilih == 1:\n",
        "    print(\"dalam dolar:\",rupiah/ 15000)\n",
        "elif pilih == 2:\n",
        "    print(\"dalam euro\",rupiah / 16000)\n",
        "elif pilih == 3:\n",
        "    print(\"dalam yen\",rupiah /120)\n",
        "else:\n",
        "    print(\"pilihan tidak valid\")"
      ],
      "metadata": {
        "colab": {
          "base_uri": "https://localhost:8080/"
        },
        "outputId": "0689f6f4-09b6-4c5f-d86f-2a7851db0cff",
        "id": "GI_rIJXqrjMs"
      },
      "execution_count": 69,
      "outputs": [
        {
          "output_type": "stream",
          "name": "stdout",
          "text": [
            "masukkan jumlah uang (RP):20000000\n",
            "1 dollar (USD)\n",
            "2 euro (EUR)\n",
            "3yen(JPY)\n",
            "pilih konversi 1/2/3):2\n",
            "dalam euro 1250.0\n"
          ]
        }
      ]
    }
  ]
}